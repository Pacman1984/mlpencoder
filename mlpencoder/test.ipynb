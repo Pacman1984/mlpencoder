{
 "cells": [
  {
   "cell_type": "code",
   "execution_count": 1,
   "metadata": {},
   "outputs": [],
   "source": [
    "from sklearn.datasets import fetch_openml\n",
    "from sklearn.pipeline import Pipeline\n",
    "from sklearn.compose import ColumnTransformer,make_column_selector\n",
    "from sklearn.impute import SimpleImputer\n",
    "from sklearn.preprocessing import OneHotEncoder, StandardScaler, OrdinalEncoder\n",
    "import __ini__ as ini"
   ]
  },
  {
   "cell_type": "code",
   "execution_count": 2,
   "metadata": {},
   "outputs": [],
   "source": [
    "X, y = fetch_openml(\"titanic\", version=1, as_frame=True, return_X_y=True)"
   ]
  },
  {
   "cell_type": "markdown",
   "metadata": {},
   "source": [
    "## with selecting Columns via ColumnsTransformer"
   ]
  },
  {
   "cell_type": "code",
   "execution_count": 3,
   "metadata": {},
   "outputs": [
    {
     "name": "stdout",
     "output_type": "stream",
     "text": [
      "Encoded Columns: ['sex', 'embarked']\n"
     ]
    },
    {
     "data": {
      "text/plain": [
       "array([[ 2.0240379 ,  1.23431511,  0.06468371, -1.13983344, -0.00626586],\n",
       "       [ 2.24580408,  1.61994526, -0.23022366, -1.33050143,  0.1438937 ],\n",
       "       [ 2.0240379 ,  1.23431511,  0.06468371, -1.13983344, -0.00626586],\n",
       "       ...,\n",
       "       [ 1.18246175,  0.45495156, -0.81848907, -1.02293795,  0.15076759],\n",
       "       [ 1.18246175,  0.45495156, -0.81848907, -1.02293795,  0.15076759],\n",
       "       [ 2.24580408,  1.61994526, -0.23022366, -1.33050143,  0.1438937 ]])"
      ]
     },
     "execution_count": 3,
     "metadata": {},
     "output_type": "execute_result"
    }
   ],
   "source": [
    "cols = ['sex','embarked']\n",
    "encoder = ini.MLPEncoder(task='classification', arch=[10,5], activation='tanh')\n",
    "\n",
    "mlp_encoder = Pipeline([\n",
    "        ('imputer', SimpleImputer(strategy='constant', fill_value='missing')),\n",
    "        ('encoder', OrdinalEncoder(handle_unknown='use_encoded_value', unknown_value=99999)),\n",
    "        ('generate_columns', encoder)\n",
    "    ])\n",
    "\n",
    "\n",
    "pipe = ColumnTransformer([\n",
    "        ('mlp_encoder', mlp_encoder, cols),\n",
    "    ])\n",
    "test = pipe.fit_transform(X, y)\n",
    "print(f\"Encoded Columns: {pipe.transformers_[0][2]}\")\n",
    "test"
   ]
  },
  {
   "cell_type": "markdown",
   "metadata": {},
   "source": [
    "# Test Model Performance"
   ]
  },
  {
   "cell_type": "code",
   "execution_count": 4,
   "metadata": {},
   "outputs": [],
   "source": [
    "from sklearn.compose import make_column_selector, ColumnTransformer\n",
    "from sklearn.preprocessing import OneHotEncoder, StandardScaler, OrdinalEncoder\n",
    "from sklearn.linear_model import LogisticRegression\n",
    "from sklearn.model_selection import cross_val_score\n",
    "from sklearn.impute import SimpleImputer"
   ]
  },
  {
   "cell_type": "markdown",
   "metadata": {},
   "source": [
    "## Standard\n"
   ]
  },
  {
   "cell_type": "code",
   "execution_count": 5,
   "metadata": {},
   "outputs": [],
   "source": [
    "X, y = fetch_openml(\"titanic\", version=1, as_frame=True, return_X_y=True)"
   ]
  },
  {
   "cell_type": "code",
   "execution_count": 6,
   "metadata": {},
   "outputs": [
    {
     "name": "stdout",
     "output_type": "stream",
     "text": [
      "Number of Features: (2833,)\n"
     ]
    },
    {
     "data": {
      "text/plain": [
       "0.9542173735788906"
      ]
     },
     "execution_count": 6,
     "metadata": {},
     "output_type": "execute_result"
    }
   ],
   "source": [
    "cat_pipe = Pipeline([\n",
    "    ('imputer', SimpleImputer(strategy='constant', fill_value='missing')),\n",
    "    ('encoder', OneHotEncoder(handle_unknown='ignore', sparse=False))\n",
    "])\n",
    "\n",
    "num_pipe = Pipeline([\n",
    "    ('imputer', SimpleImputer(strategy='median')),\n",
    "    ('scaler', StandardScaler())\n",
    "])\n",
    "\n",
    "preprocessor = ColumnTransformer([\n",
    "    ('cat', cat_pipe, make_column_selector(dtype_include=['category', 'object'])),\n",
    "    ('num', num_pipe, make_column_selector(dtype_exclude=['category', 'object'])) \n",
    "])\n",
    "\n",
    "pipe = Pipeline([\n",
    "    ('preprocessor', preprocessor),\n",
    "    ('model', LogisticRegression())\n",
    "])\n",
    "test = preprocessor.fit_transform(X, y.astype('int'))\n",
    "print(f'Number of Features: {test[0].shape}')\n",
    "cross_val_score(pipe, X, y.astype('int'), cv=5, scoring='f1').mean()"
   ]
  },
  {
   "cell_type": "markdown",
   "metadata": {},
   "source": [
    "## MLPEncoder"
   ]
  },
  {
   "cell_type": "code",
   "execution_count": 7,
   "metadata": {},
   "outputs": [],
   "source": [
    "X, y = fetch_openml(\"titanic\", version=1, as_frame=True, return_X_y=True)"
   ]
  },
  {
   "cell_type": "code",
   "execution_count": 8,
   "metadata": {},
   "outputs": [
    {
     "name": "stdout",
     "output_type": "stream",
     "text": [
      "Number of Features: (2858,)\n"
     ]
    },
    {
     "data": {
      "text/plain": [
       "0.9560314736718631"
      ]
     },
     "execution_count": 8,
     "metadata": {},
     "output_type": "execute_result"
    }
   ],
   "source": [
    "cat_pipe = Pipeline([\n",
    "    ('imputer', SimpleImputer(strategy='constant', fill_value='missing')),\n",
    "    ('encoder', OneHotEncoder(handle_unknown='ignore', sparse=False))\n",
    "])\n",
    "\n",
    "num_pipe = Pipeline([\n",
    "    ('imputer', SimpleImputer(strategy='median')),\n",
    "    ('scaler', StandardScaler())\n",
    "])\n",
    "\n",
    "# New\n",
    "mlp_columns = ['sex', 'embarked']\n",
    "encoder = ini.MLPEncoder(task='classification', arch=[500,250,100,25], activation='tanh')\n",
    "\n",
    "mlp_pipe = Pipeline([\n",
    "    ('imputer', SimpleImputer(strategy='constant', fill_value='missing')),\n",
    "    ('encoder', OrdinalEncoder(handle_unknown='use_encoded_value', unknown_value=9999)),\n",
    "    ('mlp_encoder', encoder),\n",
    "])\n",
    "\n",
    "preprocessor = ColumnTransformer([\n",
    "    ('mlp_pipe', mlp_pipe, mlp_columns),\n",
    "    ('num', num_pipe, make_column_selector(dtype_exclude=['category', 'object'])),\n",
    "    ('cat', cat_pipe, make_column_selector(dtype_include=['category', 'object']))\n",
    "])\n",
    "\n",
    "pipe = Pipeline([\n",
    "    ('preprocessor', preprocessor),\n",
    "    ('model', LogisticRegression(max_iter=10000))\n",
    "])\n",
    "\n",
    "test = preprocessor.fit_transform(X, y.astype('int'))\n",
    "print(f'Number of Features: {test[0].shape}')\n",
    "cross_val_score(pipe, X, y.astype('int'), cv=5, scoring='f1').mean()"
   ]
  },
  {
   "cell_type": "code",
   "execution_count": null,
   "metadata": {},
   "outputs": [],
   "source": []
  },
  {
   "cell_type": "code",
   "execution_count": null,
   "metadata": {},
   "outputs": [],
   "source": []
  },
  {
   "cell_type": "code",
   "execution_count": null,
   "metadata": {},
   "outputs": [],
   "source": []
  },
  {
   "cell_type": "code",
   "execution_count": null,
   "metadata": {},
   "outputs": [],
   "source": []
  }
 ],
 "metadata": {
  "interpreter": {
   "hash": "fc441cca41d0d1da0e32338f1e69f4797b59329a69ef4909796a445e2d87ef46"
  },
  "kernelspec": {
   "display_name": "Python 3.7.0 ('envCatComb')",
   "language": "python",
   "name": "python3"
  },
  "language_info": {
   "codemirror_mode": {
    "name": "ipython",
    "version": 3
   },
   "file_extension": ".py",
   "mimetype": "text/x-python",
   "name": "python",
   "nbconvert_exporter": "python",
   "pygments_lexer": "ipython3",
   "version": "3.7.0"
  },
  "orig_nbformat": 4
 },
 "nbformat": 4,
 "nbformat_minor": 2
}
